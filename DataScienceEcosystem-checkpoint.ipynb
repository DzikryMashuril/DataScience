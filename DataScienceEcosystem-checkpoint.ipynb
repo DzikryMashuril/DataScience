{
 "cells": [
  {
   "cell_type": "markdown",
   "id": "0d82fe2b",
   "metadata": {},
   "source": [
    "# H1 : Data Science Tools and Ecosystem"
   ]
  },
  {
   "cell_type": "markdown",
   "id": "4d09a78e",
   "metadata": {},
   "source": [
    "## In this notebook, Data Science Tools and Ecosystem are summarized."
   ]
  },
  {
   "cell_type": "markdown",
   "id": "53388ff5",
   "metadata": {},
   "source": [
    "## Some of the popular languages that Data Scientists use are:\n",
    "1. Python\n",
    "2. R\n",
    "3. SQL\n",
    "4. Scala\n",
    "5. Java\n",
    "6. C++\n",
    "7. Julia"
   ]
  },
  {
   "cell_type": "markdown",
   "id": "1fd615f2",
   "metadata": {},
   "source": [
    "## Some of the commonly used libraries used by Data Scientists include:\n",
    "1. Pandas\n",
    "2. NumPy\n",
    "3. SciPy\n",
    "4. Matplotlib"
   ]
  },
  {
   "cell_type": "markdown",
   "id": "c8471a46",
   "metadata": {},
   "source": [
    "## Data Science Tools\n",
    "\n",
    "|  Data Management | Data Integration and Transformation | Data Visualization | Model Building | Model Deployment | Model Monitoring and Assessment |\n",
    "| --- | --- | --- | --- | --- | --- |\n",
    "| Oracle Database | Apache AirFlow | Pixie Dust | SPSS Modeler | Apache PredictionIO | ModelDB |\n",
    "| Microsoft SQL Server | KubeFlow | Hue | SAS enterprise miner | Seldon | Prometheus |\n",
    "| IBM Db2 | Apache Kafka | Kibana | | Kubernetes | IBM AI Fairness 360 |\n",
    "|         | Apache Nifi | Apache Superset | | Redhat OpenShift | IBM Adversarial Robustness 360 Toolbox |\n",
    "|         | Apache SparkSQL | | | Mleap | IBM AI Explainability 360 |\n",
    "|         | NodeRED | | | TensorFlow service | |\n",
    "| --- | --- | --- | --- | --- | --- |"
   ]
  },
  {
   "cell_type": "markdown",
   "id": "11994e20",
   "metadata": {},
   "source": [
    "### H3 : Below are a few examples of evaluating arithmetic expressions in Python"
   ]
  },
  {
   "cell_type": "markdown",
   "id": "743b2458",
   "metadata": {},
   "source": [
    "# This a simple arithmetic expression to mutiply then add integers \n",
    "17"
   ]
  },
  {
   "cell_type": "markdown",
   "id": "91b1b17e",
   "metadata": {},
   "source": [
    "# This will convert 200 minutes to hours by diving by 60\n",
    "3.33"
   ]
  },
  {
   "cell_type": "markdown",
   "id": "9360de04",
   "metadata": {},
   "source": [
    "# Objectives :\n",
    "1. Python\n",
    "2. R\n",
    "3. SQL\n",
    "4. Scala\n",
    "5. Java"
   ]
  },
  {
   "cell_type": "markdown",
   "id": "b4fa8be4",
   "metadata": {},
   "source": [
    "## H2 : Author\n",
    "Dzikry Mashuril"
   ]
  },
  {
   "cell_type": "code",
   "execution_count": null,
   "id": "441325a9",
   "metadata": {},
   "outputs": [],
   "source": []
  }
 ],
 "metadata": {
  "kernelspec": {
   "display_name": "Python 3 (ipykernel)",
   "language": "python",
   "name": "python3"
  },
  "language_info": {
   "codemirror_mode": {
    "name": "ipython",
    "version": 3
   },
   "file_extension": ".py",
   "mimetype": "text/x-python",
   "name": "python",
   "nbconvert_exporter": "python",
   "pygments_lexer": "ipython3",
   "version": "3.11.2"
  }
 },
 "nbformat": 4,
 "nbformat_minor": 5
}
